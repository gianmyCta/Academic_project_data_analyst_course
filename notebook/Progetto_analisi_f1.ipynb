{
  "nbformat": 4,
  "nbformat_minor": 0,
  "metadata": {
    "colab": {
      "provenance": []
    },
    "kernelspec": {
      "name": "python3",
      "display_name": "Python 3"
    },
    "language_info": {
      "name": "python"
    }
  },
  "cells": [
    {
      "cell_type": "code",
      "source": [
        "import pandas as pd\n",
        "\n",
        "# path_file\n",
        "url = 'https://proai-datasets.s3.eu-west-3.amazonaws.com/formula1_data.csv'\n",
        "df = pd.read_csv(url)\n",
        "print(df)\n"
      ],
      "metadata": {
        "colab": {
          "base_uri": "https://localhost:8080/"
        },
        "id": "3rGlb0PJVW5f",
        "outputId": "d5dd12bc-06f1-4d84-8e97-6c6e6519775a"
      },
      "execution_count": 1,
      "outputs": [
        {
          "output_type": "stream",
          "name": "stdout",
          "text": [
            "         Driver        Team        Race    Country  Position\n",
            "0      Hamilton     McLaren   Melbourne  Australia         1\n",
            "1         Massa     Ferrari   Melbourne  Australia         0\n",
            "2     Raikkonen     Ferrari   Melbourne  Australia         8\n",
            "3        Kubica         BMW   Melbourne  Australia         0\n",
            "4        Alonso     Renault   Melbourne  Australia         4\n",
            "..          ...         ...         ...        ...       ...\n",
            "175    Heidfeld         BMW  Interlagos    Brasile         0\n",
            "176  Kovalainen     McLaren  Interlagos    Brasile         7\n",
            "177      Vettel  Toro Rosso  Interlagos    Brasile         4\n",
            "178      Trulli      Toyota  Interlagos    Brasile         8\n",
            "179       Glock      Toyota  Interlagos    Brasile         6\n",
            "\n",
            "[180 rows x 5 columns]\n"
          ]
        }
      ]
    },
    {
      "cell_type": "markdown",
      "source": [
        "Nel primo script importo il dataset da URL e creo il dataframe df da analizzare."
      ],
      "metadata": {
        "id": "ICeXY3VHddX2"
      }
    },
    {
      "cell_type": "code",
      "source": [
        "def sum_point(position):\n",
        "\n",
        "    point_position = {\n",
        "        1: 10,\n",
        "        2: 8,\n",
        "        3: 6,\n",
        "        4: 5,\n",
        "        5: 4,\n",
        "        6: 3,\n",
        "        7: 2,\n",
        "        8: 1\n",
        "    }\n",
        "\n",
        "    # return point for wich position\n",
        "    return point_position.get(position, 0)\n"
      ],
      "metadata": {
        "id": "RI-EUuTpVmWu"
      },
      "execution_count": 2,
      "outputs": []
    },
    {
      "cell_type": "markdown",
      "source": [
        "Creo una funzione per calcolare il punteggio."
      ],
      "metadata": {
        "id": "si4ZOcgEdrj9"
      }
    },
    {
      "cell_type": "code",
      "source": [
        "def analizza_pilota(file_csv, nome_pilota):\n",
        "\n",
        "    # load file CSV\n",
        "    dati = pd.read_csv(url)\n",
        "\n",
        "    # filter data for pilot\n",
        "    dati_pilota = dati[dati['Driver'] == nome_pilota]\n",
        "\n",
        "    if dati_pilota.empty:\n",
        "        return f\"Driver '{nome_pilota}' non trovato.\"\n",
        "\n",
        "\n",
        "\n",
        "    # crea una COPIA esplicita del filtro\n",
        "    dati_pilota = df.loc[df['Driver'] == nome_pilota].copy()\n",
        "\n",
        "    # poi assegna la nuova colonna\n",
        "    dati_pilota['Punti'] = dati_pilota['Position'].map(sum_point)  # o .apply(sum_point)\n",
        "\n",
        "\n",
        "    # total point\n",
        "    totale_punti = dati_pilota['Punti'].sum()\n",
        "\n",
        "    # win (position = 1)\n",
        "    vittorie = dati_pilota[dati_pilota['Position'] == 1].shape[0]\n",
        "\n",
        "    # paddock (position  <=1 & >=3)\n",
        "\n",
        "    podi = dati_pilota[(dati_pilota['Position'] >= 1) & (dati_pilota['Position'] <= 3)].shape[0]\n",
        "\n",
        "\n",
        "    return [totale_punti, vittorie, podi]\n",
        "\n"
      ],
      "metadata": {
        "id": "Mv7YwkLmZnL1"
      },
      "execution_count": 9,
      "outputs": []
    },
    {
      "cell_type": "markdown",
      "source": [
        "Dopo aver importato e creato la funzione per calcolare il punteggio e i podi raggiunti, proviamo a filtrare in base al pilota."
      ],
      "metadata": {
        "id": "m4_u3gsbdMFR"
      }
    },
    {
      "cell_type": "code",
      "source": [
        " #1° funzione progetto F1\n",
        "\n",
        "\n",
        "percorso_file = url\n",
        "\n",
        "nome = input(\"Inserisci il nome del pilota: \")\n",
        "\n",
        "risultato = analizza_pilota(percorso_file, nome)\n",
        "\n",
        "if isinstance(risultato, str):\n",
        "        print(risultato)\n",
        "else:\n",
        "        print(f\"Risultati per {nome}:\")\n",
        "        print(f\"Totale punti: {risultato[0]}\")\n",
        "        print(f\"Vittorie: {risultato[1]}\")\n",
        "        print(f\"Podi: {risultato[2]}\")"
      ],
      "metadata": {
        "colab": {
          "base_uri": "https://localhost:8080/"
        },
        "id": "N7bLTCRpaQ2_",
        "outputId": "e62c8005-3fd4-4b5e-f1a8-51e373a90141"
      },
      "execution_count": 10,
      "outputs": [
        {
          "output_type": "stream",
          "name": "stdout",
          "text": [
            "Inserisci il nome del pilota: Massa\n",
            "Risultati per Massa:\n",
            "Totale punti: 97\n",
            "Vittorie: 6\n",
            "Podi: 10\n"
          ]
        }
      ]
    },
    {
      "cell_type": "markdown",
      "source": [
        "Passiamo alla seconda funzione"
      ],
      "metadata": {
        "id": "S7xJaeW9eFFe"
      }
    },
    {
      "cell_type": "code",
      "source": [
        "  # 2° funzione progetto F1\n",
        "def genera_classifica(url):\n",
        "\n",
        "    # load file CSV\n",
        "    dati = pd.read_csv(url)\n",
        "\n",
        "    # point sum for race using `sum_point`\n",
        "    dati['Punti'] = dati['Position'].apply(sum_point)\n",
        "\n",
        "    # total point\n",
        "    classifica = dati.groupby('Driver')['Punti'].sum().to_dict()\n",
        "\n",
        "    # Order by point decreasing\n",
        "    classifica_ordinata = dict(sorted(classifica.items(), key=lambda item: item[1], reverse=True))\n",
        "\n",
        "    # save on a text file\n",
        "    with open(\"Drivers_Standings_2008.txt\", mode='w', encoding='utf-8') as file:\n",
        "        file.write(\"Drivers Standings 2008 Formula 1\\n\")\n",
        "        for pilota, punti in classifica_ordinata.items():\n",
        "            file.write(f\"{pilota}: {punti}\\n\")\n",
        "\n",
        "    return classifica_ordinata\n",
        "classifica = genera_classifica(url)\n",
        "\n",
        "\n",
        "print(\"Classifica: \")\n",
        "for pilota, punti in classifica.items():\n",
        "           print(f\"{pilota}: {punti}\")\n",
        "\n",
        "print(\"\\nLa classifica è stata salvata in 'Drivers_Standings_2008.txt'.\")\n"
      ],
      "metadata": {
        "colab": {
          "base_uri": "https://localhost:8080/"
        },
        "id": "RG1cFtALeHq5",
        "outputId": "bf0b243b-1ee7-46d3-c3b7-e33e712eaecf"
      },
      "execution_count": null,
      "outputs": [
        {
          "output_type": "stream",
          "name": "stdout",
          "text": [
            "Classifica: \n",
            "Hamilton: 98\n",
            "Massa: 97\n",
            "Kubica: 75\n",
            "Raikkonen: 75\n",
            "Alonso: 61\n",
            "Heidfeld: 60\n",
            "Kovalainen: 53\n",
            "Vettel: 35\n",
            "Trulli: 31\n",
            "Glock: 25\n",
            "\n",
            "La classifica è stata salvata in 'Drivers_Standings_2008.txt'.\n"
          ]
        }
      ]
    },
    {
      "cell_type": "code",
      "source": [
        "#3° Funzione progett F1\n",
        "def genera_classifica_team(url):\n",
        "\n",
        "\n",
        "    dati = pd.read_csv(url)\n",
        "\n",
        "  # point sum for race using `sum_point`\n",
        "    dati['Punti'] = dati['Position'].apply(sum_point)\n",
        "\n",
        "    # total point\n",
        "    classifica_team = dati.groupby('Team')['Punti'].sum().to_dict()\n",
        "\n",
        "    # Order by point decreasing\n",
        "    classifica_team_ordinata = dict(sorted(classifica_team.items(), key=lambda item: item[1], reverse=True))\n",
        "\n",
        "    # save on a text file\n",
        "    with open(\"Team_Standings_2008.txt\", mode='w', encoding='utf-8') as file:\n",
        "        file.write(\"Team Standings 2008 Formula 1\\n\")\n",
        "        for team, punti in classifica_team_ordinata.items():\n",
        "            file.write(f\"{team}: {punti}\\n\")\n",
        "\n",
        "    return classifica_team_ordinata\n",
        "\n",
        "classifica_team_ordinata = genera_classifica_team(url)\n",
        "\n",
        "    # print chart\n",
        "print(\"Classifica Team: \")\n",
        "for team, punti in classifica_team_ordinata.items():\n",
        "        print(f\"{team}: {punti}\")\n",
        "\n",
        "print(\"\\nLa classifica è stata salvata in 'Drivers_Standings_2008.txt'.\")\n"
      ],
      "metadata": {
        "colab": {
          "base_uri": "https://localhost:8080/"
        },
        "id": "_NSr8r63GZWG",
        "outputId": "5366ece3-d32f-49c1-b045-cea46d401d82"
      },
      "execution_count": null,
      "outputs": [
        {
          "output_type": "stream",
          "name": "stdout",
          "text": [
            "Classifica Team: \n",
            "Ferrari: 172\n",
            "McLaren: 151\n",
            "BMW: 135\n",
            "Renault: 61\n",
            "Toyota: 56\n",
            "Toro Rosso: 35\n",
            "\n",
            "La classifica è stata salvata in 'Drivers_Standings_2008.txt'.\n"
          ]
        }
      ]
    }
  ]
}